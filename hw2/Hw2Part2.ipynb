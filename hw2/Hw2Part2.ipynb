{
  "nbformat": 4,
  "nbformat_minor": 0,
  "metadata": {
    "colab": {
      "name": "Hw2Part2.ipynb",
      "provenance": [],
      "collapsed_sections": [
        "491u_NoLvZjb",
        "AkzGgQsWBZSY",
        "xgdu0hitokUz"
      ],
      "include_colab_link": true
    },
    "kernelspec": {
      "name": "python3",
      "display_name": "Python 3"
    },
    "accelerator": "GPU"
  },
  "cells": [
    {
      "cell_type": "markdown",
      "metadata": {
        "id": "view-in-github",
        "colab_type": "text"
      },
      "source": [
        "<a href=\"https://colab.research.google.com/github/trevinofernando/2D-Tactical-Game/blob/master/hw2/Hw2Part2.ipynb\" target=\"_parent\"><img src=\"https://colab.research.google.com/assets/colab-badge.svg\" alt=\"Open In Colab\"/></a>"
      ]
    },
    {
      "cell_type": "markdown",
      "metadata": {
        "id": "rt44vyY1xW9b",
        "colab_type": "text"
      },
      "source": [
        "# MNIST fashion data set\n",
        "Classification with dense layers"
      ]
    },
    {
      "cell_type": "markdown",
      "metadata": {
        "colab_type": "text",
        "id": "491u_NoLvZjb"
      },
      "source": [
        "#Model that Underfits\n",
        "The model is too simple and cannot explain the data."
      ]
    },
    {
      "cell_type": "markdown",
      "metadata": {
        "colab_type": "text",
        "id": "K7eCBhdCvZje"
      },
      "source": [
        "## Loading the MNIST fashion data set"
      ]
    },
    {
      "cell_type": "code",
      "metadata": {
        "colab_type": "code",
        "id": "3nKroi6ivZjf",
        "colab": {}
      },
      "source": [
        "%tensorflow_version 1.x\n",
        "import tensorflow as tf\n",
        "from tensorflow import keras\n",
        "\n",
        "fashion_mnist = keras.datasets.fashion_mnist\n",
        "\n",
        "(train_images, train_labels), (test_images, test_labels) = fashion_mnist.load_data()"
      ],
      "execution_count": 0,
      "outputs": []
    },
    {
      "cell_type": "markdown",
      "metadata": {
        "colab_type": "text",
        "id": "p_nx3rTzvZjj"
      },
      "source": [
        "## Exploring the format of the MNIST fashion data set"
      ]
    },
    {
      "cell_type": "code",
      "metadata": {
        "colab_type": "code",
        "outputId": "e130be3c-8b1c-47e8-a997-337bd70043f6",
        "id": "8q7BnVuavZjk",
        "colab": {
          "base_uri": "https://localhost:8080/",
          "height": 34
        }
      },
      "source": [
        "train_images.shape"
      ],
      "execution_count": 70,
      "outputs": [
        {
          "output_type": "execute_result",
          "data": {
            "text/plain": [
              "(60000, 28, 28)"
            ]
          },
          "metadata": {
            "tags": []
          },
          "execution_count": 70
        }
      ]
    },
    {
      "cell_type": "code",
      "metadata": {
        "colab_type": "code",
        "id": "azfUfX5gvZj2",
        "colab": {}
      },
      "source": [
        "class_names = ['T-shirt/top', 'Trouser', 'Pullover', 'Dress', 'Coat',\n",
        "               'Sandal', 'Shirt', 'Sneaker', 'Bag', 'Ankle boot']"
      ],
      "execution_count": 0,
      "outputs": []
    },
    {
      "cell_type": "markdown",
      "metadata": {
        "colab_type": "text",
        "id": "DHdrNqlIvZj4"
      },
      "source": [
        "## Displaying some MNIST fashion items"
      ]
    },
    {
      "cell_type": "code",
      "metadata": {
        "colab_type": "code",
        "id": "wmwPNqiqvZj5",
        "colab": {}
      },
      "source": [
        "import matplotlib.pyplot as plt\n",
        "import numpy as np"
      ],
      "execution_count": 0,
      "outputs": []
    },
    {
      "cell_type": "code",
      "metadata": {
        "colab_type": "code",
        "outputId": "55d34aca-df48-48bc-f81d-59ac602250c1",
        "id": "dEWY-8HLvZj8",
        "colab": {
          "base_uri": "https://localhost:8080/",
          "height": 589
        }
      },
      "source": [
        "plt.figure(figsize=(10,10))\n",
        "indices = np.random.choice(np.arange(60000), size=25, replace=False)\n",
        "for i in range(25):\n",
        "    plt.subplot(5,5,i+1)\n",
        "    plt.xticks([])\n",
        "    plt.yticks([])\n",
        "    plt.grid(False)\n",
        "    plt.imshow(train_images[indices[i]], cmap=plt.cm.binary)\n",
        "    plt.xlabel(class_names[train_labels[indices[i]]])\n",
        "plt.show()"
      ],
      "execution_count": 74,
      "outputs": [
        {
          "output_type": "display_data",
          "data": {
            "image/png": "[encoded data removed]",
            "text/plain": [
              "<Figure size 720x720 with 25 Axes>"
            ]
          },
          "metadata": {
            "tags": []
          }
        }
      ]
    },
    {
      "cell_type": "markdown",
      "metadata": {
        "colab_type": "text",
        "id": "3yvdKN-7vZkC"
      },
      "source": [
        "## Preprocess the data"
      ]
    },
    {
      "cell_type": "code",
      "metadata": {
        "colab_type": "code",
        "id": "31d-ZzESvZkC",
        "colab": {}
      },
      "source": [
        "#Re-scale data to have a value between 0 and 1\n",
        "train_images = train_images / 255.0\n",
        "test_images = test_images / 255.0"
      ],
      "execution_count": 0,
      "outputs": []
    },
    {
      "cell_type": "markdown",
      "metadata": {
        "colab_type": "text",
        "id": "jYBeoCPWvZkK"
      },
      "source": [
        "##Network Architecture"
      ]
    },
    {
      "cell_type": "markdown",
      "metadata": {
        "id": "RREg98X56Xvl",
        "colab_type": "text"
      },
      "source": [
        "###Summary"
      ]
    },
    {
      "cell_type": "code",
      "metadata": {
        "colab_type": "code",
        "outputId": "bd6ec2b8-4e45-4059-b201-953322ba5065",
        "id": "BfjNqNDgvZkL",
        "colab": {
          "base_uri": "https://localhost:8080/",
          "height": 221
        }
      },
      "source": [
        "# set up the layers\n",
        "\n",
        "model = keras.Sequential([\n",
        "    keras.layers.Flatten(input_shape=(28, 28)), #Input layer of 28*28 = 784 pixels\n",
        "    keras.layers.Dense(10, activation=tf.nn.softmax) #Output layer with softmax for One Hot Encoding\n",
        "])\n",
        "model.summary()"
      ],
      "execution_count": 75,
      "outputs": [
        {
          "output_type": "stream",
          "text": [
            "Model: \"sequential_4\"\n",
            "_________________________________________________________________\n",
            "Layer (type)                 Output Shape              Param #   \n",
            "=================================================================\n",
            "flatten_4 (Flatten)          (None, 784)               0         \n",
            "_________________________________________________________________\n",
            "dense_10 (Dense)             (None, 10)                7850      \n",
            "=================================================================\n",
            "Total params: 7,850\n",
            "Trainable params: 7,850\n",
            "Non-trainable params: 0\n",
            "_________________________________________________________________\n"
          ],
          "name": "stdout"
        }
      ]
    },
    {
      "cell_type": "markdown",
      "metadata": {
        "colab_type": "text",
        "id": "_g91pKUFvZkO"
      },
      "source": [
        "### Build and train the model"
      ]
    },
    {
      "cell_type": "code",
      "metadata": {
        "colab_type": "code",
        "outputId": "a416afcf-c86d-41d0-99aa-f83427e8db92",
        "id": "KeqsJ3BYvZkP",
        "colab": {
          "base_uri": "https://localhost:8080/",
          "height": 374
        }
      },
      "source": [
        "# compile the model\n",
        "model.compile(optimizer='rmsprop', #Root Mean Square Propogation\n",
        "             loss='sparse_categorical_crossentropy', #sparse_categorical_crossentropy for integers\n",
        "             metrics=['accuracy'])\n",
        "\n",
        "# train the model\n",
        "epochs = 10\n",
        "history = model.fit(train_images, \n",
        "                      train_labels, \n",
        "                      epochs=epochs,  \n",
        "                      validation_data=(test_images, test_labels))"
      ],
      "execution_count": 76,
      "outputs": [
        {
          "output_type": "stream",
          "text": [
            "Train on 60000 samples, validate on 10000 samples\n",
            "Epoch 1/10\n",
            "60000/60000 [==============================] - 6s 94us/sample - loss: 0.5853 - acc: 0.8024 - val_loss: 0.5155 - val_acc: 0.8252\n",
            "Epoch 2/10\n",
            "60000/60000 [==============================] - 6s 94us/sample - loss: 0.4707 - acc: 0.8432 - val_loss: 0.4847 - val_acc: 0.8386\n",
            "Epoch 3/10\n",
            "60000/60000 [==============================] - 6s 92us/sample - loss: 0.4508 - acc: 0.8492 - val_loss: 0.4921 - val_acc: 0.8370\n",
            "Epoch 4/10\n",
            "60000/60000 [==============================] - 6s 93us/sample - loss: 0.4409 - acc: 0.8547 - val_loss: 0.4855 - val_acc: 0.8391\n",
            "Epoch 5/10\n",
            "60000/60000 [==============================] - 6s 92us/sample - loss: 0.4351 - acc: 0.8566 - val_loss: 0.4845 - val_acc: 0.8407\n",
            "Epoch 6/10\n",
            "60000/60000 [==============================] - 6s 93us/sample - loss: 0.4298 - acc: 0.8582 - val_loss: 0.4828 - val_acc: 0.8417\n",
            "Epoch 7/10\n",
            "60000/60000 [==============================] - 6s 92us/sample - loss: 0.4272 - acc: 0.8597 - val_loss: 0.4823 - val_acc: 0.8408\n",
            "Epoch 8/10\n",
            "60000/60000 [==============================] - 6s 94us/sample - loss: 0.4252 - acc: 0.8608 - val_loss: 0.4881 - val_acc: 0.8412\n",
            "Epoch 9/10\n",
            "60000/60000 [==============================] - 6s 93us/sample - loss: 0.4230 - acc: 0.8615 - val_loss: 0.4741 - val_acc: 0.8471\n",
            "Epoch 10/10\n",
            "60000/60000 [==============================] - 6s 93us/sample - loss: 0.4218 - acc: 0.8621 - val_loss: 0.4763 - val_acc: 0.8457\n"
          ],
          "name": "stdout"
        }
      ]
    },
    {
      "cell_type": "markdown",
      "metadata": {
        "colab_type": "text",
        "id": "GlwAAgojvZkR"
      },
      "source": [
        "### Evaluate accuracy"
      ]
    },
    {
      "cell_type": "code",
      "metadata": {
        "colab_type": "code",
        "outputId": "54211de5-6021-4a04-82c0-1579e76192b2",
        "id": "kekig_NDvZkS",
        "colab": {
          "base_uri": "https://localhost:8080/",
          "height": 51
        }
      },
      "source": [
        "test_loss, test_acc = model.evaluate(test_images, test_labels)\n",
        "\n",
        "print('Test accuracy:', test_acc)"
      ],
      "execution_count": 77,
      "outputs": [
        {
          "output_type": "stream",
          "text": [
            "10000/10000 [==============================] - 1s 58us/sample - loss: 0.4763 - acc: 0.8457\n",
            "Test accuracy: 0.8457\n"
          ],
          "name": "stdout"
        }
      ]
    },
    {
      "cell_type": "markdown",
      "metadata": {
        "colab_type": "text",
        "id": "i4a_7Ar-vZkU"
      },
      "source": [
        "It turns out, the accuracy on the test dataset is a little less than the accuracy on the training dataset. \n",
        "\n",
        "This gap between training accuracy and test accuracy is an example of **overfitting**. Overfitting is when a machine learning model performs worse on new data than on their training data.\n",
        "\n"
      ]
    },
    {
      "cell_type": "markdown",
      "metadata": {
        "colab_type": "text",
        "id": "dsy9uVZ-vZkW"
      },
      "source": [
        "##Visualization"
      ]
    },
    {
      "cell_type": "code",
      "metadata": {
        "colab_type": "code",
        "id": "x5YAPbldvZkY",
        "colab": {}
      },
      "source": [
        "history_dict = history.history\n",
        "loss_values = history_dict['loss']\n",
        "test_loss_values = history_dict['val_loss']\n",
        "epochs_range = range(1, epochs+1)"
      ],
      "execution_count": 0,
      "outputs": []
    },
    {
      "cell_type": "markdown",
      "metadata": {
        "colab_type": "text",
        "id": "zdIPSz8lvZkX"
      },
      "source": [
        "### Training and Test Loss\n",
        "\n"
      ]
    },
    {
      "cell_type": "code",
      "metadata": {
        "colab_type": "code",
        "outputId": "c15a40e6-b114-4eb7-8a01-650d085bcc95",
        "id": "0q42DFV4vZka",
        "colab": {
          "base_uri": "https://localhost:8080/",
          "height": 295
        }
      },
      "source": [
        "plt.plot(epochs_range, loss_values, 'bo', label='Training loss')\n",
        "plt.plot(epochs_range, test_loss_values, 'ro', label='Test loss')\n",
        "plt.title('Training and test loss')\n",
        "plt.xlabel('Epochs')\n",
        "plt.ylabel('Loss')\n",
        "plt.legend()\n",
        "plt.show()"
      ],
      "execution_count": 79,
      "outputs": [
        {
          "output_type": "display_data",
          "data": {
            "image/png": "[encoded data removed]",
            "text/plain": [
              "<Figure size 432x288 with 1 Axes>"
            ]
          },
          "metadata": {
            "tags": []
          }
        }
      ]
    },
    {
      "cell_type": "markdown",
      "metadata": {
        "colab_type": "text",
        "id": "FB4EG3levZke"
      },
      "source": [
        "### Training and Test Accuracy"
      ]
    },
    {
      "cell_type": "code",
      "metadata": {
        "colab_type": "code",
        "id": "4iOMzvQKvZkf",
        "colab": {}
      },
      "source": [
        "acc_values = history_dict['acc']\n",
        "test_acc_values = history_dict['val_acc']"
      ],
      "execution_count": 0,
      "outputs": []
    },
    {
      "cell_type": "code",
      "metadata": {
        "colab_type": "code",
        "outputId": "f5340ffd-23ab-48cf-d10a-f146fcb4f9cf",
        "id": "oe1PnTPnvZkj",
        "colab": {
          "base_uri": "https://localhost:8080/",
          "height": 295
        }
      },
      "source": [
        "plt.plot(epochs_range, acc_values, 'bo', label='Training accuracy')\n",
        "plt.plot(epochs_range, test_acc_values, 'ro', label='Test accuracy')\n",
        "plt.title('Training and test accuracy')\n",
        "plt.xlabel('Epochs')\n",
        "plt.ylabel('Accuracy')\n",
        "plt.legend()\n",
        "plt.show()"
      ],
      "execution_count": 81,
      "outputs": [
        {
          "output_type": "display_data",
          "data": {
            "image/png": "[encoded data removed]",
            "text/plain": [
              "<Figure size 432x288 with 1 Axes>"
            ]
          },
          "metadata": {
            "tags": []
          }
        }
      ]
    },
    {
      "cell_type": "markdown",
      "metadata": {
        "colab_type": "text",
        "id": "PdsY6nqwvZkn"
      },
      "source": [
        "###Missclassified data"
      ]
    },
    {
      "cell_type": "code",
      "metadata": {
        "colab_type": "code",
        "outputId": "259bddff-2a0e-4f0a-9c77-f5ca2732a6e8",
        "id": "ZkJIv4KovZkp",
        "colab": {
          "base_uri": "https://localhost:8080/",
          "height": 34
        }
      },
      "source": [
        "#Test model on Test dataset\n",
        "predictions = model.predict([test_images])\n",
        "#Get predictions by extracting the max on the One Hot Encoded Vector\n",
        "predictions = np.argmax(predictions, axis=1) \n",
        "#Cast values to make sure it's uint8\n",
        "predictions = predictions.astype('uint8')\n",
        "print(predictions)"
      ],
      "execution_count": 82,
      "outputs": [
        {
          "output_type": "stream",
          "text": [
            "[9 2 1 ... 8 1 5]\n"
          ],
          "name": "stdout"
        }
      ]
    },
    {
      "cell_type": "code",
      "metadata": {
        "colab_type": "code",
        "outputId": "ca2c3a69-f9f2-4004-8d9a-a638311aee2b",
        "id": "hrwH4ZdlvZkr",
        "colab": {
          "base_uri": "https://localhost:8080/",
          "height": 34
        }
      },
      "source": [
        "(numLabels,) = test_labels.shape\n",
        "#Compare predicted labels against real labels and extract the bad predictions\n",
        "wrong_indices = [i for i in range(numLabels) if predictions[i] != test_labels[i]]\n",
        "# The quantity below is equal to the test accuracy reported by the network fit method.\n",
        "print(1.0 - len(wrong_indices) / numLabels)"
      ],
      "execution_count": 83,
      "outputs": [
        {
          "output_type": "stream",
          "text": [
            "0.8457\n"
          ],
          "name": "stdout"
        }
      ]
    },
    {
      "cell_type": "code",
      "metadata": {
        "colab_type": "code",
        "outputId": "6b56ef93-b9d8-47b7-dd73-704db7d017af",
        "id": "7OysF2LuvZku",
        "colab": {
          "base_uri": "https://localhost:8080/",
          "height": 1000
        }
      },
      "source": [
        "# This show the ith misclassified digit. \n",
        "numImages = 10\n",
        "for i in range(numImages):\n",
        "  wrong_index = wrong_indices[(int)(i * len(wrong_indices) / numImages)]\n",
        "  print(\"Predicted \")\n",
        "  print(class_names[predictions[wrong_index]])\n",
        "  print(\"True label \")\n",
        "  print(class_names[test_labels[wrong_index]])\n",
        "  plt.imshow(test_images[wrong_index], cmap = plt.cm.binary)\n",
        "  plt.show()"
      ],
      "execution_count": 84,
      "outputs": [
        {
          "output_type": "stream",
          "text": [
            "Predicted \n",
            "Sandal\n",
            "True label \n",
            "Sneaker\n"
          ],
          "name": "stdout"
        },
        {
          "output_type": "display_data",
          "data": {
            "image/png": "[encoded data removed]",
            "text/plain": [
              "<Figure size 432x288 with 1 Axes>"
            ]
          },
          "metadata": {
            "tags": []
          }
        },
        {
          "output_type": "stream",
          "text": [
            "Predicted \n",
            "Shirt\n",
            "True label \n",
            "Coat\n"
          ],
          "name": "stdout"
        },
        {
          "output_type": "display_data",
          "data": {
            "image/png": "[encoded data removed]",
            "text/plain": [
              "<Figure size 432x288 with 1 Axes>"
            ]
          },
          "metadata": {
            "tags": []
          }
        },
        {
          "output_type": "stream",
          "text": [
            "Predicted \n",
            "Coat\n",
            "True label \n",
            "Pullover\n"
          ],
          "name": "stdout"
        },
        {
          "output_type": "display_data",
          "data": {
            "image/png": "[encoded data removed]",
            "text/plain": [
              "<Figure size 432x288 with 1 Axes>"
            ]
          },
          "metadata": {
            "tags": []
          }
        },
        {
          "output_type": "stream",
          "text": [
            "Predicted \n",
            "T-shirt/top\n",
            "True label \n",
            "Dress\n"
          ],
          "name": "stdout"
        },
        {
          "output_type": "display_data",
          "data": {
            "image/png": "[encoded data removed]",
            "text/plain": [
              "<Figure size 432x288 with 1 Axes>"
            ]
          },
          "metadata": {
            "tags": []
          }
        },
        {
          "output_type": "stream",
          "text": [
            "Predicted \n",
            "Coat\n",
            "True label \n",
            "Shirt\n"
          ],
          "name": "stdout"
        },
        {
          "output_type": "display_data",
          "data": {
            "image/png": "[encoded data removed]",
            "text/plain": [
              "<Figure size 432x288 with 1 Axes>"
            ]
          },
          "metadata": {
            "tags": []
          }
        },
        {
          "output_type": "stream",
          "text": [
            "Predicted \n",
            "Shirt\n",
            "True label \n",
            "Coat\n"
          ],
          "name": "stdout"
        },
        {
          "output_type": "display_data",
          "data": {
            "image/png": "[encoded data removed]",
            "text/plain": [
              "<Figure size 432x288 with 1 Axes>"
            ]
          },
          "metadata": {
            "tags": []
          }
        },
        {
          "output_type": "stream",
          "text": [
            "Predicted \n",
            "Pullover\n",
            "True label \n",
            "Coat\n"
          ],
          "name": "stdout"
        },
        {
          "output_type": "display_data",
          "data": {
            "image/png": "[encoded data removed]",
            "text/plain": [
              "<Figure size 432x288 with 1 Axes>"
            ]
          },
          "metadata": {
            "tags": []
          }
        },
        {
          "output_type": "stream",
          "text": [
            "Predicted \n",
            "Pullover\n",
            "True label \n",
            "Coat\n"
          ],
          "name": "stdout"
        },
        {
          "output_type": "display_data",
          "data": {
            "image/png": "[encoded data removed]",
            "text/plain": [
              "<Figure size 432x288 with 1 Axes>"
            ]
          },
          "metadata": {
            "tags": []
          }
        },
        {
          "output_type": "stream",
          "text": [
            "Predicted \n",
            "Coat\n",
            "True label \n",
            "Pullover\n"
          ],
          "name": "stdout"
        },
        {
          "output_type": "display_data",
          "data": {
            "image/png": "[encoded data removed]",
            "text/plain": [
              "<Figure size 432x288 with 1 Axes>"
            ]
          },
          "metadata": {
            "tags": []
          }
        },
        {
          "output_type": "stream",
          "text": [
            "Predicted \n",
            "Shirt\n",
            "True label \n",
            "Coat\n"
          ],
          "name": "stdout"
        },
        {
          "output_type": "display_data",
          "data": {
            "image/png": "[encoded data removed]",
            "text/plain": [
              "<Figure size 432x288 with 1 Axes>"
            ]
          },
          "metadata": {
            "tags": []
          }
        }
      ]
    },
    {
      "cell_type": "markdown",
      "metadata": {
        "colab_type": "text",
        "id": "AkzGgQsWBZSY"
      },
      "source": [
        "#Model that Overfits\n",
        "The model is unnecessarily complex so it can easily adapt too much to the training data. In addition, the model tarins for too long, and having too much exposure to the same data will lead to Overfiting"
      ]
    },
    {
      "cell_type": "markdown",
      "metadata": {
        "colab_type": "text",
        "id": "zho0i2hZBZSr"
      },
      "source": [
        "## Loading the MNIST fashion data set"
      ]
    },
    {
      "cell_type": "code",
      "metadata": {
        "colab_type": "code",
        "id": "MKlTctCtBZSw",
        "colab": {}
      },
      "source": [
        "%tensorflow_version 1.x\n",
        "import tensorflow as tf\n",
        "from tensorflow import keras\n",
        "import matplotlib.pyplot as plt\n",
        "import numpy as np\n",
        "\n",
        "fashion_mnist = keras.datasets.fashion_mnist\n",
        "\n",
        "(train_images, train_labels), (test_images, test_labels) = fashion_mnist.load_data()"
      ],
      "execution_count": 0,
      "outputs": []
    },
    {
      "cell_type": "code",
      "metadata": {
        "colab_type": "code",
        "id": "GXA4n4FXBZTJ",
        "colab": {}
      },
      "source": [
        "class_names = ['T-shirt/top', 'Trouser', 'Pullover', 'Dress', 'Coat',\n",
        "               'Sandal', 'Shirt', 'Sneaker', 'Bag', 'Ankle boot']"
      ],
      "execution_count": 0,
      "outputs": []
    },
    {
      "cell_type": "markdown",
      "metadata": {
        "colab_type": "text",
        "id": "yjOuqDmBBZTc"
      },
      "source": [
        "## Preprocess the data"
      ]
    },
    {
      "cell_type": "code",
      "metadata": {
        "colab_type": "code",
        "id": "atEBCjvgBZTd",
        "colab": {}
      },
      "source": [
        "#Re-scale data to have a value between 0 and 1\n",
        "train_images = train_images / 255.0\n",
        "test_images = test_images / 255.0"
      ],
      "execution_count": 0,
      "outputs": []
    },
    {
      "cell_type": "markdown",
      "metadata": {
        "colab_type": "text",
        "id": "mwfCH7UpBZTg"
      },
      "source": [
        "##Network Architecture"
      ]
    },
    {
      "cell_type": "markdown",
      "metadata": {
        "colab_type": "text",
        "id": "wesa9INFBZTh"
      },
      "source": [
        "###Summary"
      ]
    },
    {
      "cell_type": "code",
      "metadata": {
        "colab_type": "code",
        "outputId": "9e38fd9f-e13d-473d-ccaa-882dedb6d1a2",
        "id": "BK2HgWPCBZTj",
        "colab": {
          "base_uri": "https://localhost:8080/",
          "height": 323
        }
      },
      "source": [
        "# set up the layers\n",
        "model = keras.Sequential([\n",
        "    keras.layers.Flatten(input_shape=(28, 28)), #Input layer of 28*28 = 784 pixels\n",
        "    keras.layers.Dense(784, activation=tf.nn.relu), #Hidden layer with 784 neurons and reLu(x) = max(0, x)\n",
        "    keras.layers.Dense(784*2, activation=tf.nn.leaky_relu), #Hidden layer with 1568 neurons and leaky_reLu(x) = max(0.01x, x)\n",
        "    keras.layers.Dense(784*2, activation=tf.nn.sigmoid), #Hidden layer with 1568 neurons and sigmoid(x) = 1/(1 + e^-x)\n",
        "    keras.layers.Dense(10, activation=tf.nn.softmax) #Output layer with softmax for One Hot Encoding\n",
        "])\n",
        "model.summary()"
      ],
      "execution_count": 88,
      "outputs": [
        {
          "output_type": "stream",
          "text": [
            "Model: \"sequential_5\"\n",
            "_________________________________________________________________\n",
            "Layer (type)                 Output Shape              Param #   \n",
            "=================================================================\n",
            "flatten_5 (Flatten)          (None, 784)               0         \n",
            "_________________________________________________________________\n",
            "dense_11 (Dense)             (None, 784)               615440    \n",
            "_________________________________________________________________\n",
            "dense_12 (Dense)             (None, 1568)              1230880   \n",
            "_________________________________________________________________\n",
            "dense_13 (Dense)             (None, 1568)              2460192   \n",
            "_________________________________________________________________\n",
            "dense_14 (Dense)             (None, 10)                15690     \n",
            "=================================================================\n",
            "Total params: 4,322,202\n",
            "Trainable params: 4,322,202\n",
            "Non-trainable params: 0\n",
            "_________________________________________________________________\n"
          ],
          "name": "stdout"
        }
      ]
    },
    {
      "cell_type": "markdown",
      "metadata": {
        "colab_type": "text",
        "id": "oV7BSOAuBZTm"
      },
      "source": [
        "### Build and train the model"
      ]
    },
    {
      "cell_type": "code",
      "metadata": {
        "colab_type": "code",
        "outputId": "4d24082e-fafe-453e-e93c-68d9a8526de4",
        "id": "gyajtYQpBZTn",
        "colab": {
          "base_uri": "https://localhost:8080/",
          "height": 884
        }
      },
      "source": [
        "# compile the model\n",
        "model.compile(optimizer='adam', #Adaptive Moment Optimization\n",
        "             loss='sparse_categorical_crossentropy', #sparse_categorical_crossentropy for integers\n",
        "             metrics=['accuracy'])\n",
        "\n",
        "# train the model\n",
        "epochs = 25\n",
        "history = model.fit(train_images, \n",
        "                      train_labels, \n",
        "                      epochs=epochs,  \n",
        "                      validation_data=(test_images, test_labels))"
      ],
      "execution_count": 89,
      "outputs": [
        {
          "output_type": "stream",
          "text": [
            "Train on 60000 samples, validate on 10000 samples\n",
            "Epoch 1/25\n",
            "60000/60000 [==============================] - 13s 220us/sample - loss: 0.4970 - acc: 0.8189 - val_loss: 0.4242 - val_acc: 0.8530\n",
            "Epoch 2/25\n",
            "60000/60000 [==============================] - 13s 211us/sample - loss: 0.3677 - acc: 0.8644 - val_loss: 0.4229 - val_acc: 0.8462\n",
            "Epoch 3/25\n",
            "60000/60000 [==============================] - 13s 209us/sample - loss: 0.3317 - acc: 0.8774 - val_loss: 0.3838 - val_acc: 0.8598\n",
            "Epoch 4/25\n",
            "60000/60000 [==============================] - 13s 209us/sample - loss: 0.3102 - acc: 0.8843 - val_loss: 0.3745 - val_acc: 0.8717\n",
            "Epoch 5/25\n",
            "60000/60000 [==============================] - 13s 215us/sample - loss: 0.2949 - acc: 0.8903 - val_loss: 0.3917 - val_acc: 0.8548\n",
            "Epoch 6/25\n",
            "60000/60000 [==============================] - 12s 208us/sample - loss: 0.2847 - acc: 0.8946 - val_loss: 0.3516 - val_acc: 0.8747\n",
            "Epoch 7/25\n",
            "60000/60000 [==============================] - 12s 208us/sample - loss: 0.2748 - acc: 0.8970 - val_loss: 0.3632 - val_acc: 0.8693\n",
            "Epoch 8/25\n",
            "60000/60000 [==============================] - 13s 209us/sample - loss: 0.2687 - acc: 0.8997 - val_loss: 0.3481 - val_acc: 0.8770\n",
            "Epoch 9/25\n",
            "60000/60000 [==============================] - 12s 208us/sample - loss: 0.2616 - acc: 0.9013 - val_loss: 0.4083 - val_acc: 0.8564\n",
            "Epoch 10/25\n",
            "60000/60000 [==============================] - 13s 209us/sample - loss: 0.2544 - acc: 0.9044 - val_loss: 0.3382 - val_acc: 0.8796\n",
            "Epoch 11/25\n",
            "60000/60000 [==============================] - 13s 211us/sample - loss: 0.2532 - acc: 0.9054 - val_loss: 0.3819 - val_acc: 0.8639\n",
            "Epoch 12/25\n",
            "60000/60000 [==============================] - 13s 209us/sample - loss: 0.2503 - acc: 0.9069 - val_loss: 0.4012 - val_acc: 0.8714\n",
            "Epoch 13/25\n",
            "60000/60000 [==============================] - 12s 208us/sample - loss: 0.2489 - acc: 0.9078 - val_loss: 0.3719 - val_acc: 0.8796\n",
            "Epoch 14/25\n",
            "60000/60000 [==============================] - 12s 204us/sample - loss: 0.2450 - acc: 0.9099 - val_loss: 0.3520 - val_acc: 0.8772\n",
            "Epoch 15/25\n",
            "60000/60000 [==============================] - 12s 205us/sample - loss: 0.2456 - acc: 0.9096 - val_loss: 0.3713 - val_acc: 0.8775\n",
            "Epoch 16/25\n",
            "60000/60000 [==============================] - 12s 204us/sample - loss: 0.2390 - acc: 0.9106 - val_loss: 0.3772 - val_acc: 0.8737\n",
            "Epoch 17/25\n",
            "60000/60000 [==============================] - 12s 204us/sample - loss: 0.2409 - acc: 0.9110 - val_loss: 0.3468 - val_acc: 0.8787\n",
            "Epoch 18/25\n",
            "60000/60000 [==============================] - 12s 204us/sample - loss: 0.2401 - acc: 0.9114 - val_loss: 0.3973 - val_acc: 0.8776\n",
            "Epoch 19/25\n",
            "60000/60000 [==============================] - 12s 203us/sample - loss: 0.2420 - acc: 0.9119 - val_loss: 0.4173 - val_acc: 0.8721\n",
            "Epoch 20/25\n",
            "60000/60000 [==============================] - 12s 203us/sample - loss: 0.2515 - acc: 0.9074 - val_loss: 0.3805 - val_acc: 0.8740\n",
            "Epoch 21/25\n",
            "60000/60000 [==============================] - 12s 204us/sample - loss: 0.2499 - acc: 0.9085 - val_loss: 0.3636 - val_acc: 0.8785\n",
            "Epoch 22/25\n",
            "60000/60000 [==============================] - 12s 202us/sample - loss: 0.2512 - acc: 0.9082 - val_loss: 0.4655 - val_acc: 0.8555\n",
            "Epoch 23/25\n",
            "60000/60000 [==============================] - 12s 203us/sample - loss: 0.2504 - acc: 0.9086 - val_loss: 0.3928 - val_acc: 0.8779\n",
            "Epoch 24/25\n",
            "60000/60000 [==============================] - 12s 204us/sample - loss: 0.2513 - acc: 0.9087 - val_loss: 0.3999 - val_acc: 0.8789\n",
            "Epoch 25/25\n",
            "60000/60000 [==============================] - 12s 203us/sample - loss: 0.2472 - acc: 0.9100 - val_loss: 0.4181 - val_acc: 0.8633\n"
          ],
          "name": "stdout"
        }
      ]
    },
    {
      "cell_type": "markdown",
      "metadata": {
        "colab_type": "text",
        "id": "i6JoBj18BZTr"
      },
      "source": [
        "### Evaluate accuracy"
      ]
    },
    {
      "cell_type": "code",
      "metadata": {
        "colab_type": "code",
        "outputId": "fddeb910-c00b-4aff-f9f8-674e5014acea",
        "id": "XZHD00cNBZTs",
        "colab": {
          "base_uri": "https://localhost:8080/",
          "height": 51
        }
      },
      "source": [
        "test_loss, test_acc = model.evaluate(test_images, test_labels)\n",
        "\n",
        "print('Test accuracy:', test_acc)"
      ],
      "execution_count": 90,
      "outputs": [
        {
          "output_type": "stream",
          "text": [
            "10000/10000 [==============================] - 1s 81us/sample - loss: 0.4181 - acc: 0.8633\n",
            "Test accuracy: 0.8633\n"
          ],
          "name": "stdout"
        }
      ]
    },
    {
      "cell_type": "markdown",
      "metadata": {
        "colab_type": "text",
        "id": "u3DzTm_lBZTv"
      },
      "source": [
        "It turns out, the accuracy on the test dataset is a little less than the accuracy on the training dataset. \n",
        "\n",
        "This gap between training accuracy and test accuracy is an example of **overfitting**. Overfitting is when a machine learning model performs worse on new data than on their training data.\n",
        "\n"
      ]
    },
    {
      "cell_type": "markdown",
      "metadata": {
        "colab_type": "text",
        "id": "8mc7L3E6BZTw"
      },
      "source": [
        "##Visualization"
      ]
    },
    {
      "cell_type": "code",
      "metadata": {
        "colab_type": "code",
        "id": "RadgHjX4BZTy",
        "colab": {}
      },
      "source": [
        "history_dict = history.history\n",
        "loss_values = history_dict['loss']\n",
        "test_loss_values = history_dict['val_loss']\n",
        "epochs_range = range(1, epochs+1)"
      ],
      "execution_count": 0,
      "outputs": []
    },
    {
      "cell_type": "markdown",
      "metadata": {
        "colab_type": "text",
        "id": "KaBWnX1xBZT2"
      },
      "source": [
        "### Training and Test Loss\n",
        "\n"
      ]
    },
    {
      "cell_type": "code",
      "metadata": {
        "colab_type": "code",
        "outputId": "8dc1f7e6-f80d-49db-ebaf-c554427cc080",
        "id": "j6nWqsLuBZT3",
        "colab": {
          "base_uri": "https://localhost:8080/",
          "height": 295
        }
      },
      "source": [
        "plt.plot(epochs_range, loss_values, 'bo', label='Training loss')\n",
        "plt.plot(epochs_range, test_loss_values, 'ro', label='Test loss')\n",
        "plt.title('Training and test loss')\n",
        "plt.xlabel('Epochs')\n",
        "plt.ylabel('Loss')\n",
        "plt.legend()\n",
        "plt.show()"
      ],
      "execution_count": 92,
      "outputs": [
        {
          "output_type": "display_data",
          "data": {
            "image/png": "[encoded data removed]",
            "text/plain": [
              "<Figure size 432x288 with 1 Axes>"
            ]
          },
          "metadata": {
            "tags": []
          }
        }
      ]
    },
    {
      "cell_type": "markdown",
      "metadata": {
        "colab_type": "text",
        "id": "7U8ofo5oBZT-"
      },
      "source": [
        "### Training and Test Accuracy"
      ]
    },
    {
      "cell_type": "code",
      "metadata": {
        "colab_type": "code",
        "id": "pVr8b2GuBZT_",
        "colab": {}
      },
      "source": [
        "acc_values = history_dict['acc']\n",
        "test_acc_values = history_dict['val_acc']"
      ],
      "execution_count": 0,
      "outputs": []
    },
    {
      "cell_type": "code",
      "metadata": {
        "colab_type": "code",
        "outputId": "a07a7be4-2856-469e-a043-7d4032badc92",
        "id": "SzuJKG25BZUC",
        "colab": {
          "base_uri": "https://localhost:8080/",
          "height": 295
        }
      },
      "source": [
        "plt.plot(epochs_range, acc_values, 'bo', label='Training accuracy')\n",
        "plt.plot(epochs_range, test_acc_values, 'ro', label='Test accuracy')\n",
        "plt.title('Training and test accuracy')\n",
        "plt.xlabel('Epochs')\n",
        "plt.ylabel('Accuracy')\n",
        "plt.legend()\n",
        "plt.show()"
      ],
      "execution_count": 94,
      "outputs": [
        {
          "output_type": "display_data",
          "data": {
            "image/png": "[encoded data removed]",
            "text/plain": [
              "<Figure size 432x288 with 1 Axes>"
            ]
          },
          "metadata": {
            "tags": []
          }
        }
      ]
    },
    {
      "cell_type": "markdown",
      "metadata": {
        "colab_type": "text",
        "id": "l3MCsewBBZUJ"
      },
      "source": [
        "###Missclassified data"
      ]
    },
    {
      "cell_type": "code",
      "metadata": {
        "colab_type": "code",
        "outputId": "6dc1ce30-b0d8-497c-bbe2-692032f66312",
        "id": "971Kf21nBZUK",
        "colab": {
          "base_uri": "https://localhost:8080/",
          "height": 34
        }
      },
      "source": [
        "#Test model on Test dataset\n",
        "predictions = model.predict([test_images])\n",
        "#Get predictions by extracting the max on the One Hot Encoded Vector\n",
        "predictions = np.argmax(predictions, axis=1) \n",
        "#Cast values to make sure it's uint8\n",
        "predictions = predictions.astype('uint8')\n",
        "print(predictions)"
      ],
      "execution_count": 95,
      "outputs": [
        {
          "output_type": "stream",
          "text": [
            "[9 2 1 ... 8 1 5]\n"
          ],
          "name": "stdout"
        }
      ]
    },
    {
      "cell_type": "code",
      "metadata": {
        "colab_type": "code",
        "outputId": "612ac22e-ef68-4743-f089-1cbf12f46fac",
        "id": "Lu1FCWl2BZUQ",
        "colab": {
          "base_uri": "https://localhost:8080/",
          "height": 34
        }
      },
      "source": [
        "(numLabels,) = test_labels.shape\n",
        "#Compare predicted labels against real labels and extract the bad predictions\n",
        "wrong_indices = [i for i in range(numLabels) if predictions[i] != test_labels[i]]\n",
        "# The quantity below is equal to the test accuracy reported by the network fit method.\n",
        "print(1.0 - len(wrong_indices) / numLabels)"
      ],
      "execution_count": 96,
      "outputs": [
        {
          "output_type": "stream",
          "text": [
            "0.8633\n"
          ],
          "name": "stdout"
        }
      ]
    },
    {
      "cell_type": "code",
      "metadata": {
        "colab_type": "code",
        "outputId": "32de741a-a46b-4030-8f3b-c654674a1d02",
        "id": "ciBqrwNBBZUU",
        "colab": {
          "base_uri": "https://localhost:8080/",
          "height": 1000
        }
      },
      "source": [
        "# This show the ith misclassified digit. \n",
        "numImages = 10\n",
        "for i in range(numImages):\n",
        "  wrong_index = wrong_indices[(int)(i * len(wrong_indices) / numImages)]\n",
        "  print(\"Predicted \")\n",
        "  print(class_names[predictions[wrong_index]])\n",
        "  print(\"True label \")\n",
        "  print(class_names[test_labels[wrong_index]])\n",
        "  plt.imshow(test_images[wrong_index], cmap = plt.cm.binary)\n",
        "  plt.show()"
      ],
      "execution_count": 97,
      "outputs": [
        {
          "output_type": "stream",
          "text": [
            "Predicted \n",
            "Sandal\n",
            "True label \n",
            "Sneaker\n"
          ],
          "name": "stdout"
        },
        {
          "output_type": "display_data",
          "data": {
            "image/png": "[encoded data removed]",
            "text/plain": [
              "<Figure size 432x288 with 1 Axes>"
            ]
          },
          "metadata": {
            "tags": []
          }
        },
        {
          "output_type": "stream",
          "text": [
            "Predicted \n",
            "Shirt\n",
            "True label \n",
            "T-shirt/top\n"
          ],
          "name": "stdout"
        },
        {
          "output_type": "display_data",
          "data": {
            "image/png": "[encoded data removed]",
            "text/plain": [
              "<Figure size 432x288 with 1 Axes>"
            ]
          },
          "metadata": {
            "tags": []
          }
        },
        {
          "output_type": "stream",
          "text": [
            "Predicted \n",
            "Dress\n",
            "True label \n",
            "Pullover\n"
          ],
          "name": "stdout"
        },
        {
          "output_type": "display_data",
          "data": {
            "image/png": "[encoded data removed]",
            "text/plain": [
              "<Figure size 432x288 with 1 Axes>"
            ]
          },
          "metadata": {
            "tags": []
          }
        },
        {
          "output_type": "stream",
          "text": [
            "Predicted \n",
            "Sneaker\n",
            "True label \n",
            "Ankle boot\n"
          ],
          "name": "stdout"
        },
        {
          "output_type": "display_data",
          "data": {
            "image/png": "[encoded data removed]",
            "text/plain": [
              "<Figure size 432x288 with 1 Axes>"
            ]
          },
          "metadata": {
            "tags": []
          }
        },
        {
          "output_type": "stream",
          "text": [
            "Predicted \n",
            "Shirt\n",
            "True label \n",
            "Pullover\n"
          ],
          "name": "stdout"
        },
        {
          "output_type": "display_data",
          "data": {
            "image/png": "[encoded data removed]",
            "text/plain": [
              "<Figure size 432x288 with 1 Axes>"
            ]
          },
          "metadata": {
            "tags": []
          }
        },
        {
          "output_type": "stream",
          "text": [
            "Predicted \n",
            "Shirt\n",
            "True label \n",
            "Coat\n"
          ],
          "name": "stdout"
        },
        {
          "output_type": "display_data",
          "data": {
            "image/png": "[encoded data removed]",
            "text/plain": [
              "<Figure size 432x288 with 1 Axes>"
            ]
          },
          "metadata": {
            "tags": []
          }
        },
        {
          "output_type": "stream",
          "text": [
            "Predicted \n",
            "Shirt\n",
            "True label \n",
            "Pullover\n"
          ],
          "name": "stdout"
        },
        {
          "output_type": "display_data",
          "data": {
            "image/png": "[encoded data removed]",
            "text/plain": [
              "<Figure size 432x288 with 1 Axes>"
            ]
          },
          "metadata": {
            "tags": []
          }
        },
        {
          "output_type": "stream",
          "text": [
            "Predicted \n",
            "Pullover\n",
            "True label \n",
            "Shirt\n"
          ],
          "name": "stdout"
        },
        {
          "output_type": "display_data",
          "data": {
            "image/png": "[encoded data removed]",
            "text/plain": [
              "<Figure size 432x288 with 1 Axes>"
            ]
          },
          "metadata": {
            "tags": []
          }
        },
        {
          "output_type": "stream",
          "text": [
            "Predicted \n",
            "Dress\n",
            "True label \n",
            "T-shirt/top\n"
          ],
          "name": "stdout"
        },
        {
          "output_type": "display_data",
          "data": {
            "image/png": "[encoded data removed]",
            "text/plain": [
              "<Figure size 432x288 with 1 Axes>"
            ]
          },
          "metadata": {
            "tags": []
          }
        },
        {
          "output_type": "stream",
          "text": [
            "Predicted \n",
            "Dress\n",
            "True label \n",
            "T-shirt/top\n"
          ],
          "name": "stdout"
        },
        {
          "output_type": "display_data",
          "data": {
            "image/png": "[encoded data removed]",
            "text/plain": [
              "<Figure size 432x288 with 1 Axes>"
            ]
          },
          "metadata": {
            "tags": []
          }
        }
      ]
    },
    {
      "cell_type": "markdown",
      "metadata": {
        "id": "xgdu0hitokUz",
        "colab_type": "text"
      },
      "source": [
        "#Model that is \"Pretty Good\"\n",
        "The model is neither too simple, nor too complex. In addition, the model didn't train for too many epochs, and I use dropout to fight overfitting."
      ]
    },
    {
      "cell_type": "markdown",
      "metadata": {
        "id": "l34GNy7tyNks",
        "colab_type": "text"
      },
      "source": [
        "## Loading the MNIST fashion data set"
      ]
    },
    {
      "cell_type": "code",
      "metadata": {
        "id": "FSJyddqGexl5",
        "colab_type": "code",
        "colab": {}
      },
      "source": [
        "%tensorflow_version 1.x\n",
        "import tensorflow as tf\n",
        "from tensorflow import keras\n",
        "import matplotlib.pyplot as plt\n",
        "import numpy as np\n",
        "\n",
        "fashion_mnist = keras.datasets.fashion_mnist\n",
        "\n",
        "(train_images, train_labels), (test_images, test_labels) = fashion_mnist.load_data()"
      ],
      "execution_count": 0,
      "outputs": []
    },
    {
      "cell_type": "code",
      "metadata": {
        "id": "aa2r6ZRcO7XV",
        "colab_type": "code",
        "colab": {}
      },
      "source": [
        "class_names = ['T-shirt/top', 'Trouser', 'Pullover', 'Dress', 'Coat',\n",
        "               'Sandal', 'Shirt', 'Sneaker', 'Bag', 'Ankle boot']"
      ],
      "execution_count": 0,
      "outputs": []
    },
    {
      "cell_type": "markdown",
      "metadata": {
        "id": "JC5iBT_0OCSl",
        "colab_type": "text"
      },
      "source": [
        "## Preprocess the data"
      ]
    },
    {
      "cell_type": "code",
      "metadata": {
        "id": "inugSPsZNytV",
        "colab_type": "code",
        "colab": {}
      },
      "source": [
        "#Re-scale data to have a value between 0 and 1\n",
        "train_images = train_images / 255.0\n",
        "test_images = test_images / 255.0"
      ],
      "execution_count": 0,
      "outputs": []
    },
    {
      "cell_type": "markdown",
      "metadata": {
        "id": "ud8O11Vya2jd",
        "colab_type": "text"
      },
      "source": [
        "##Network Architecture"
      ]
    },
    {
      "cell_type": "markdown",
      "metadata": {
        "id": "fXQ9Rpoa6c6D",
        "colab_type": "text"
      },
      "source": [
        "###Summary"
      ]
    },
    {
      "cell_type": "code",
      "metadata": {
        "id": "SgBZhVeEa2M0",
        "colab_type": "code",
        "outputId": "bc424743-18f7-47a1-ca8d-ac691a784559",
        "colab": {
          "base_uri": "https://localhost:8080/",
          "height": 323
        }
      },
      "source": [
        "# set up the layers\n",
        "\n",
        "model = keras.Sequential([\n",
        "    keras.layers.Flatten(input_shape=(28, 28)), #Input layer of 28*28 = 784 pixels\n",
        "    keras.layers.Dropout(0.5), #50% chance of using a given neuron\n",
        "    keras.layers.Dense(784, activation=tf.nn.relu), #Hidden layer with 784 neurons and reLu(x) = max(0, x)\n",
        "    keras.layers.Dense(28, activation=tf.nn.sigmoid), #Hidden layer with 1568 neurons and sigmoid(x) = 1/(1 + e^-x)\n",
        "    keras.layers.Dense(10, activation=tf.nn.softmax) #Output layer with softmax for One Hot Encoding\n",
        "])\n",
        "model.summary()"
      ],
      "execution_count": 59,
      "outputs": [
        {
          "output_type": "stream",
          "text": [
            "Model: \"sequential_3\"\n",
            "_________________________________________________________________\n",
            "Layer (type)                 Output Shape              Param #   \n",
            "=================================================================\n",
            "flatten_3 (Flatten)          (None, 784)               0         \n",
            "_________________________________________________________________\n",
            "dropout (Dropout)            (None, 784)               0         \n",
            "_________________________________________________________________\n",
            "dense_7 (Dense)              (None, 784)               615440    \n",
            "_________________________________________________________________\n",
            "dense_8 (Dense)              (None, 28)                21980     \n",
            "_________________________________________________________________\n",
            "dense_9 (Dense)              (None, 10)                290       \n",
            "=================================================================\n",
            "Total params: 637,710\n",
            "Trainable params: 637,710\n",
            "Non-trainable params: 0\n",
            "_________________________________________________________________\n"
          ],
          "name": "stdout"
        }
      ]
    },
    {
      "cell_type": "markdown",
      "metadata": {
        "id": "OA975wHjOJI-",
        "colab_type": "text"
      },
      "source": [
        "### Build and train the model"
      ]
    },
    {
      "cell_type": "code",
      "metadata": {
        "id": "ZX6SGTpMOIKN",
        "colab_type": "code",
        "outputId": "7971b806-9503-4b1b-ccd9-9310f9f2d4a1",
        "colab": {
          "base_uri": "https://localhost:8080/",
          "height": 1000
        }
      },
      "source": [
        "# compile the model\n",
        "model.compile(optimizer='adam', #Adaptive Moment Optimization\n",
        "             loss='sparse_categorical_crossentropy', #sparse_categorical_crossentropy for integers\n",
        "             metrics=['accuracy'])\n",
        "\n",
        "# train the model\n",
        "epochs = 30\n",
        "history = model.fit(train_images, \n",
        "                      train_labels, \n",
        "                      epochs=epochs,  \n",
        "                      validation_data=(test_images, test_labels))"
      ],
      "execution_count": 60,
      "outputs": [
        {
          "output_type": "stream",
          "text": [
            "Train on 60000 samples, validate on 10000 samples\n",
            "Epoch 1/30\n",
            "60000/60000 [==============================] - 7s 125us/sample - loss: 0.6494 - acc: 0.7810 - val_loss: 0.4805 - val_acc: 0.8282\n",
            "Epoch 2/30\n",
            "60000/60000 [==============================] - 7s 122us/sample - loss: 0.4683 - acc: 0.8259 - val_loss: 0.4035 - val_acc: 0.8565\n",
            "Epoch 3/30\n",
            "60000/60000 [==============================] - 7s 123us/sample - loss: 0.4278 - acc: 0.8405 - val_loss: 0.3952 - val_acc: 0.8563\n",
            "Epoch 4/30\n",
            "60000/60000 [==============================] - 7s 123us/sample - loss: 0.4061 - acc: 0.8485 - val_loss: 0.3819 - val_acc: 0.8595\n",
            "Epoch 5/30\n",
            "60000/60000 [==============================] - 7s 123us/sample - loss: 0.3904 - acc: 0.8530 - val_loss: 0.3695 - val_acc: 0.8637\n",
            "Epoch 6/30\n",
            "60000/60000 [==============================] - 7s 124us/sample - loss: 0.3790 - acc: 0.8572 - val_loss: 0.3620 - val_acc: 0.8667\n",
            "Epoch 7/30\n",
            "60000/60000 [==============================] - 7s 124us/sample - loss: 0.3701 - acc: 0.8599 - val_loss: 0.3473 - val_acc: 0.8722\n",
            "Epoch 8/30\n",
            "60000/60000 [==============================] - 7s 123us/sample - loss: 0.3615 - acc: 0.8643 - val_loss: 0.3423 - val_acc: 0.8737\n",
            "Epoch 9/30\n",
            "60000/60000 [==============================] - 7s 123us/sample - loss: 0.3554 - acc: 0.8657 - val_loss: 0.3443 - val_acc: 0.8714\n",
            "Epoch 10/30\n",
            "60000/60000 [==============================] - 7s 123us/sample - loss: 0.3487 - acc: 0.8679 - val_loss: 0.3482 - val_acc: 0.8684\n",
            "Epoch 11/30\n",
            "60000/60000 [==============================] - 7s 122us/sample - loss: 0.3440 - acc: 0.8687 - val_loss: 0.3467 - val_acc: 0.8704\n",
            "Epoch 12/30\n",
            "60000/60000 [==============================] - 7s 124us/sample - loss: 0.3399 - acc: 0.8699 - val_loss: 0.3405 - val_acc: 0.8731\n",
            "Epoch 13/30\n",
            "60000/60000 [==============================] - 7s 123us/sample - loss: 0.3368 - acc: 0.8723 - val_loss: 0.3537 - val_acc: 0.8683\n",
            "Epoch 14/30\n",
            "60000/60000 [==============================] - 7s 123us/sample - loss: 0.3341 - acc: 0.8729 - val_loss: 0.3290 - val_acc: 0.8776\n",
            "Epoch 15/30\n",
            "60000/60000 [==============================] - 7s 122us/sample - loss: 0.3308 - acc: 0.8737 - val_loss: 0.3311 - val_acc: 0.8755\n",
            "Epoch 16/30\n",
            "60000/60000 [==============================] - 7s 123us/sample - loss: 0.3285 - acc: 0.8765 - val_loss: 0.3259 - val_acc: 0.8778\n",
            "Epoch 17/30\n",
            "60000/60000 [==============================] - 7s 121us/sample - loss: 0.3251 - acc: 0.8763 - val_loss: 0.3291 - val_acc: 0.8775\n",
            "Epoch 18/30\n",
            "60000/60000 [==============================] - 7s 123us/sample - loss: 0.3222 - acc: 0.8771 - val_loss: 0.3251 - val_acc: 0.8798\n",
            "Epoch 19/30\n",
            "60000/60000 [==============================] - 7s 122us/sample - loss: 0.3170 - acc: 0.8788 - val_loss: 0.3252 - val_acc: 0.8764\n",
            "Epoch 20/30\n",
            "60000/60000 [==============================] - 8s 126us/sample - loss: 0.3116 - acc: 0.8807 - val_loss: 0.3390 - val_acc: 0.8780\n",
            "Epoch 21/30\n",
            "60000/60000 [==============================] - 8s 127us/sample - loss: 0.3140 - acc: 0.8796 - val_loss: 0.3167 - val_acc: 0.8813\n",
            "Epoch 22/30\n",
            "60000/60000 [==============================] - 7s 122us/sample - loss: 0.3150 - acc: 0.8792 - val_loss: 0.3312 - val_acc: 0.8742\n",
            "Epoch 23/30\n",
            "60000/60000 [==============================] - 7s 123us/sample - loss: 0.3115 - acc: 0.8817 - val_loss: 0.3225 - val_acc: 0.8801\n",
            "Epoch 24/30\n",
            "60000/60000 [==============================] - 7s 123us/sample - loss: 0.3111 - acc: 0.8806 - val_loss: 0.3205 - val_acc: 0.8825\n",
            "Epoch 25/30\n",
            "60000/60000 [==============================] - 7s 122us/sample - loss: 0.3071 - acc: 0.8835 - val_loss: 0.3357 - val_acc: 0.8751\n",
            "Epoch 26/30\n",
            "60000/60000 [==============================] - 7s 123us/sample - loss: 0.3090 - acc: 0.8824 - val_loss: 0.3334 - val_acc: 0.8783\n",
            "Epoch 27/30\n",
            "60000/60000 [==============================] - 7s 123us/sample - loss: 0.3031 - acc: 0.8849 - val_loss: 0.3170 - val_acc: 0.8833\n",
            "Epoch 28/30\n",
            "60000/60000 [==============================] - 7s 122us/sample - loss: 0.3061 - acc: 0.8849 - val_loss: 0.3130 - val_acc: 0.8861\n",
            "Epoch 29/30\n",
            "60000/60000 [==============================] - 7s 123us/sample - loss: 0.3055 - acc: 0.8842 - val_loss: 0.3270 - val_acc: 0.8808\n",
            "Epoch 30/30\n",
            "60000/60000 [==============================] - 7s 123us/sample - loss: 0.3043 - acc: 0.8846 - val_loss: 0.3150 - val_acc: 0.8827\n"
          ],
          "name": "stdout"
        }
      ]
    },
    {
      "cell_type": "markdown",
      "metadata": {
        "id": "mORb9IwPP7oE",
        "colab_type": "text"
      },
      "source": [
        "### Evaluate accuracy"
      ]
    },
    {
      "cell_type": "code",
      "metadata": {
        "id": "rlKIF6ijOkiE",
        "colab_type": "code",
        "outputId": "b8949395-067e-44fe-dcd6-3b2d5a02b0fd",
        "colab": {
          "base_uri": "https://localhost:8080/",
          "height": 51
        }
      },
      "source": [
        "test_loss, test_acc = model.evaluate(test_images, test_labels)\n",
        "\n",
        "print('Test accuracy:', test_acc)"
      ],
      "execution_count": 61,
      "outputs": [
        {
          "output_type": "stream",
          "text": [
            "10000/10000 [==============================] - 1s 69us/sample - loss: 0.3150 - acc: 0.8827\n",
            "Test accuracy: 0.8827\n"
          ],
          "name": "stdout"
        }
      ]
    },
    {
      "cell_type": "markdown",
      "metadata": {
        "id": "A4_diOE4QOqo",
        "colab_type": "text"
      },
      "source": [
        "It turns out, the accuracy on the test dataset is a little less than the accuracy on the training dataset. \n",
        "\n",
        "This gap between training accuracy and test accuracy is an example of **overfitting**. Overfitting is when a machine learning model performs worse on new data than on their training data.\n",
        "\n"
      ]
    },
    {
      "cell_type": "markdown",
      "metadata": {
        "id": "nkXewKLnbVIV",
        "colab_type": "text"
      },
      "source": [
        "##Visualization"
      ]
    },
    {
      "cell_type": "markdown",
      "metadata": {
        "id": "GqbGdV6oXEyP",
        "colab_type": "text"
      },
      "source": [
        "### Training and Test Loss\n",
        "\n"
      ]
    },
    {
      "cell_type": "code",
      "metadata": {
        "id": "3b5OCE5YTrEc",
        "colab_type": "code",
        "colab": {}
      },
      "source": [
        "history_dict = history.history\n",
        "loss_values = history_dict['loss']\n",
        "test_loss_values = history_dict['val_loss']\n",
        "epochs_range = range(1, epochs+1)"
      ],
      "execution_count": 0,
      "outputs": []
    },
    {
      "cell_type": "code",
      "metadata": {
        "id": "y98AOblYT3Pk",
        "colab_type": "code",
        "outputId": "e57ef3d8-84de-4d98-b483-2f1797f6e97e",
        "colab": {
          "base_uri": "https://localhost:8080/",
          "height": 295
        }
      },
      "source": [
        "plt.plot(epochs_range, loss_values, 'bo', label='Training loss')\n",
        "plt.plot(epochs_range, test_loss_values, 'ro', label='Test loss')\n",
        "plt.title('Training and test loss')\n",
        "plt.xlabel('Epochs')\n",
        "plt.ylabel('Loss')\n",
        "plt.legend()\n",
        "plt.show()"
      ],
      "execution_count": 63,
      "outputs": [
        {
          "output_type": "display_data",
          "data": {
            "image/png": "[encoded data removed]",
            "text/plain": [
              "<Figure size 432x288 with 1 Axes>"
            ]
          },
          "metadata": {
            "tags": []
          }
        }
      ]
    },
    {
      "cell_type": "markdown",
      "metadata": {
        "id": "Yiab498yblqE",
        "colab_type": "text"
      },
      "source": [
        "### Training and Test Accuracy"
      ]
    },
    {
      "cell_type": "code",
      "metadata": {
        "id": "790AkDaTWuZU",
        "colab_type": "code",
        "colab": {}
      },
      "source": [
        "acc_values = history_dict['acc']\n",
        "test_acc_values = history_dict['val_acc']"
      ],
      "execution_count": 0,
      "outputs": []
    },
    {
      "cell_type": "code",
      "metadata": {
        "id": "7BkIfPQ4W39E",
        "colab_type": "code",
        "outputId": "9ac827fb-5d39-4148-f5cc-243b79ddac42",
        "colab": {
          "base_uri": "https://localhost:8080/",
          "height": 295
        }
      },
      "source": [
        "plt.plot(epochs_range, acc_values, 'bo', label='Training accuracy')\n",
        "plt.plot(epochs_range, test_acc_values, 'ro', label='Test accuracy')\n",
        "plt.title('Training and test accuracy')\n",
        "plt.xlabel('Epochs')\n",
        "plt.ylabel('Accuracy')\n",
        "plt.legend()\n",
        "plt.show()"
      ],
      "execution_count": 65,
      "outputs": [
        {
          "output_type": "display_data",
          "data": {
            "image/png": "[encoded data removed]",
            "text/plain": [
              "<Figure size 432x288 with 1 Axes>"
            ]
          },
          "metadata": {
            "tags": []
          }
        }
      ]
    },
    {
      "cell_type": "markdown",
      "metadata": {
        "id": "2zpnxENIWj4N",
        "colab_type": "text"
      },
      "source": [
        "###Missclassified data"
      ]
    },
    {
      "cell_type": "code",
      "metadata": {
        "id": "CF21syqbrkqF",
        "colab_type": "code",
        "outputId": "45acfd96-201d-4515-bf6f-be1c83bdf45b",
        "colab": {
          "base_uri": "https://localhost:8080/",
          "height": 34
        }
      },
      "source": [
        "#Test model on Test dataset\n",
        "predictions = model.predict([test_images])\n",
        "#Get predictions by extracting the max on the One Hot Encoded Vector\n",
        "predictions = np.argmax(predictions, axis=1) \n",
        "#Cast values to make sure it's uint8\n",
        "predictions = predictions.astype('uint8')\n",
        "print(predictions)"
      ],
      "execution_count": 66,
      "outputs": [
        {
          "output_type": "stream",
          "text": [
            "[9 2 1 ... 8 1 5]\n"
          ],
          "name": "stdout"
        }
      ]
    },
    {
      "cell_type": "code",
      "metadata": {
        "id": "u7wqAnvksAQJ",
        "colab_type": "code",
        "outputId": "d139a253-19ce-4cde-c1b9-f0761607dd41",
        "colab": {
          "base_uri": "https://localhost:8080/",
          "height": 34
        }
      },
      "source": [
        "(numLabels,) = test_labels.shape\n",
        "#Compare predicted labels against real labels and extract the bad predictions\n",
        "wrong_indices = [i for i in range(numLabels) if predictions[i] != test_labels[i]]\n",
        "# The quantity below is equal to the test accuracy reported by the network fit method.\n",
        "print(1.0 - len(wrong_indices) / numLabels)"
      ],
      "execution_count": 67,
      "outputs": [
        {
          "output_type": "stream",
          "text": [
            "0.8827\n"
          ],
          "name": "stdout"
        }
      ]
    },
    {
      "cell_type": "code",
      "metadata": {
        "id": "1sTQv6ehsLqm",
        "colab_type": "code",
        "outputId": "066e7d7e-029d-4467-9532-0df76e7a949d",
        "colab": {
          "base_uri": "https://localhost:8080/",
          "height": 1000
        }
      },
      "source": [
        "# This show the ith misclassified digit. \n",
        "numImages = 10\n",
        "for i in range(numImages):\n",
        "  wrong_index = wrong_indices[(int)(i * len(wrong_indices) / numImages)]\n",
        "  print(\"Predicted \")\n",
        "  print(class_names[predictions[wrong_index]])\n",
        "  print(\"True label \")\n",
        "  print(class_names[test_labels[wrong_index]])\n",
        "  plt.imshow(test_images[wrong_index], cmap = plt.cm.binary)\n",
        "  plt.show()"
      ],
      "execution_count": 68,
      "outputs": [
        {
          "output_type": "stream",
          "text": [
            "Predicted \n",
            "Sandal\n",
            "True label \n",
            "Sneaker\n"
          ],
          "name": "stdout"
        },
        {
          "output_type": "display_data",
          "data": {
            "image/png": "[encoded data removed]",
            "text/plain": [
              "<Figure size 432x288 with 1 Axes>"
            ]
          },
          "metadata": {
            "tags": []
          }
        },
        {
          "output_type": "stream",
          "text": [
            "Predicted \n",
            "T-shirt/top\n",
            "True label \n",
            "Shirt\n"
          ],
          "name": "stdout"
        },
        {
          "output_type": "display_data",
          "data": {
            "image/png": "[encoded data removed]",
            "text/plain": [
              "<Figure size 432x288 with 1 Axes>"
            ]
          },
          "metadata": {
            "tags": []
          }
        },
        {
          "output_type": "stream",
          "text": [
            "Predicted \n",
            "Dress\n",
            "True label \n",
            "Trouser\n"
          ],
          "name": "stdout"
        },
        {
          "output_type": "display_data",
          "data": {
            "image/png": "[encoded data removed]",
            "text/plain": [
              "<Figure size 432x288 with 1 Axes>"
            ]
          },
          "metadata": {
            "tags": []
          }
        },
        {
          "output_type": "stream",
          "text": [
            "Predicted \n",
            "Shirt\n",
            "True label \n",
            "T-shirt/top\n"
          ],
          "name": "stdout"
        },
        {
          "output_type": "display_data",
          "data": {
            "image/png": "[encoded data removed]",
            "text/plain": [
              "<Figure size 432x288 with 1 Axes>"
            ]
          },
          "metadata": {
            "tags": []
          }
        },
        {
          "output_type": "stream",
          "text": [
            "Predicted \n",
            "Dress\n",
            "True label \n",
            "Coat\n"
          ],
          "name": "stdout"
        },
        {
          "output_type": "display_data",
          "data": {
            "image/png": "[encoded data removed]",
            "text/plain": [
              "<Figure size 432x288 with 1 Axes>"
            ]
          },
          "metadata": {
            "tags": []
          }
        },
        {
          "output_type": "stream",
          "text": [
            "Predicted \n",
            "Shirt\n",
            "True label \n",
            "Pullover\n"
          ],
          "name": "stdout"
        },
        {
          "output_type": "display_data",
          "data": {
            "image/png": "[encoded data removed]",
            "text/plain": [
              "<Figure size 432x288 with 1 Axes>"
            ]
          },
          "metadata": {
            "tags": []
          }
        },
        {
          "output_type": "stream",
          "text": [
            "Predicted \n",
            "Shirt\n",
            "True label \n",
            "Pullover\n"
          ],
          "name": "stdout"
        },
        {
          "output_type": "display_data",
          "data": {
            "image/png": "[encoded data removed]",
            "text/plain": [
              "<Figure size 432x288 with 1 Axes>"
            ]
          },
          "metadata": {
            "tags": []
          }
        },
        {
          "output_type": "stream",
          "text": [
            "Predicted \n",
            "Shirt\n",
            "True label \n",
            "T-shirt/top\n"
          ],
          "name": "stdout"
        },
        {
          "output_type": "display_data",
          "data": {
            "image/png": "[encoded data removed]",
            "text/plain": [
              "<Figure size 432x288 with 1 Axes>"
            ]
          },
          "metadata": {
            "tags": []
          }
        },
        {
          "output_type": "stream",
          "text": [
            "Predicted \n",
            "Ankle boot\n",
            "True label \n",
            "Sandal\n"
          ],
          "name": "stdout"
        },
        {
          "output_type": "display_data",
          "data": {
            "image/png": "[encoded data removed]",
            "text/plain": [
              "<Figure size 432x288 with 1 Axes>"
            ]
          },
          "metadata": {
            "tags": []
          }
        },
        {
          "output_type": "stream",
          "text": [
            "Predicted \n",
            "Shirt\n",
            "True label \n",
            "Dress\n"
          ],
          "name": "stdout"
        },
        {
          "output_type": "display_data",
          "data": {
            "image/png": "[encoded data removed]",
            "text/plain": [
              "<Figure size 432x288 with 1 Axes>"
            ]
          },
          "metadata": {
            "tags": []
          }
        }
      ]
    }
  ]
}